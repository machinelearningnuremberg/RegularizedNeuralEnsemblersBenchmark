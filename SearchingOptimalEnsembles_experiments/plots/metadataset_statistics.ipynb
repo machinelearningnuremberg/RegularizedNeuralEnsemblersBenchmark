{
 "cells": [
  {
   "cell_type": "code",
   "execution_count": 3,
   "metadata": {},
   "outputs": [],
   "source": [
    "import numpy as np\n",
    "import pandas as pd\n",
    "import json\n",
    "from pathlib import Path\n",
    "import os"
   ]
  },
  {
   "cell_type": "code",
   "execution_count": 17,
   "metadata": {},
   "outputs": [],
   "source": [
    "project_names = [\"RQ1_ftc_mini_nll\",\n",
    "                \"RQ1_nb_micro_nll\",\n",
    "                \"RQ1_nb_mini_nll\",\n",
    "                \"RQ1_qt_micro_nll\",\n",
    "                \"RQ1_qt_mini_nll\",\n",
    "                \"RQ1_tr_version3class_nll\",\n",
    "                \"RQ1_tr_version3reg_mse\"]\n",
    "\n",
    "project_name = project_names[0]\n",
    "summaries = []\n",
    "for project_name in project_names:\n",
    "    info_path = Path(\"..\") / \"experiments_results\" / project_name / \"single1_0\"\n",
    "\n",
    "    results = []\n",
    "    for dataset in os.listdir(info_path):\n",
    "        temp_path = info_path / dataset / \"0\"\n",
    "        with open(temp_path / \"results.json\") as json_file:\n",
    "            temp_results = json.load(json_file)\n",
    "        results.append(temp_results)\n",
    "    summary = pd.DataFrame(results).mean()\n",
    "    summaries.append(summary)"
   ]
  },
  {
   "cell_type": "code",
   "execution_count": 24,
   "metadata": {},
   "outputs": [
    {
     "data": {
      "text/plain": [
       "posthoc_total_time    4.476649e-01\n",
       "val_metric            5.763577e+07\n",
       "test_metric           4.435559e+07\n",
       "ensemble_size         1.530000e+03\n",
       "number_of_classes     1.000000e+00\n",
       "val_dataset_size      3.054118e+03\n",
       "test_dataset_size     3.397059e+02\n",
       "num_base_models       1.530000e+03\n",
       "dtype: float64"
      ]
     },
     "execution_count": 24,
     "metadata": {},
     "output_type": "execute_result"
    }
   ],
   "source": [
    "summaries[6]"
   ]
  },
  {
   "cell_type": "code",
   "execution_count": null,
   "metadata": {},
   "outputs": [],
   "source": []
  }
 ],
 "metadata": {
  "kernelspec": {
   "display_name": "searching_optimal_ensembles",
   "language": "python",
   "name": "python3"
  },
  "language_info": {
   "codemirror_mode": {
    "name": "ipython",
    "version": 3
   },
   "file_extension": ".py",
   "mimetype": "text/x-python",
   "name": "python",
   "nbconvert_exporter": "python",
   "pygments_lexer": "ipython3",
   "version": "3.10.14 (main, May  6 2024, 19:42:50) [GCC 11.2.0]"
  },
  "orig_nbformat": 4,
  "vscode": {
   "interpreter": {
    "hash": "501a77d84e0083a1edac1feed26a26e2814e751f8bdd1662ff19a2dbb6f51c09"
   }
  }
 },
 "nbformat": 4,
 "nbformat_minor": 2
}
